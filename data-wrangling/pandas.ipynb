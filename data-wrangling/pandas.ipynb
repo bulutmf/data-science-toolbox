{
 "cells": [
  {
   "cell_type": "markdown",
   "metadata": {},
   "source": [
    "# Python Pandas Tutorial\n",
    "\n",
    "Pandas is great and a defacto library for data mungling in Python. In this tutorial, we will take a look at the basic operations that a data scientist needs to use Pandas. \n",
    "\n",
    "See official page for more information: https://pandas.pydata.org/"
   ]
  },
  {
   "cell_type": "markdown",
   "metadata": {},
   "source": [
    "## Import Pandas and Numpy"
   ]
  },
  {
   "cell_type": "code",
   "execution_count": 1,
   "metadata": {},
   "outputs": [],
   "source": [
    "import pandas as pd\n",
    "import numpy as np"
   ]
  },
  {
   "cell_type": "markdown",
   "metadata": {},
   "source": [
    "## Data Types\n",
    "\n",
    "Before we delve into the details, let's first understand the Pandas Data Types, namely Series and DataFrames."
   ]
  },
  {
   "cell_type": "markdown",
   "metadata": {},
   "source": [
    "### Series\n",
    "\n",
    "Series are the foundational block of Pandas. You can think of it as labeled (indexed) arrays"
   ]
  },
  {
   "cell_type": "code",
   "execution_count": 6,
   "metadata": {},
   "outputs": [
    {
     "data": {
      "text/plain": [
       "0   -0.895791\n",
       "1    0.003069\n",
       "2    1.011121\n",
       "3   -0.871680\n",
       "4    0.556485\n",
       "dtype: float64"
      ]
     },
     "execution_count": 6,
     "metadata": {},
     "output_type": "execute_result"
    }
   ],
   "source": [
    "# Create Series\n",
    "x = pd.Series(np.random.randn(5))\n",
    "x"
   ]
  },
  {
   "cell_type": "code",
   "execution_count": 8,
   "metadata": {},
   "outputs": [
    {
     "data": {
      "text/plain": [
       "k    0.867775\n",
       "l    0.096473\n",
       "m    0.288008\n",
       "n   -1.628125\n",
       "o    0.971568\n",
       "dtype: float64"
      ]
     },
     "execution_count": 8,
     "metadata": {},
     "output_type": "execute_result"
    }
   ],
   "source": [
    "# Create Series with index (if no index is provided, then numbered from 1 to n)\n",
    "x = pd.Series(np.random.randn(5), index=['k', 'l', 'm', 'n', 'o'])\n",
    "x"
   ]
  },
  {
   "cell_type": "code",
   "execution_count": 12,
   "metadata": {},
   "outputs": [
    {
     "data": {
      "text/plain": [
       "k    1\n",
       "l    2\n",
       "m    3\n",
       "n    7\n",
       "dtype: int64"
      ]
     },
     "execution_count": 12,
     "metadata": {},
     "output_type": "execute_result"
    }
   ],
   "source": [
    "# You can provide a dictionary to create series as well (with key as indices)\n",
    "d = {\n",
    "    'k': 1,\n",
    "    'l': 2,\n",
    "    'm': 3,\n",
    "    'n': 7\n",
    "}\n",
    "y = pd.Series(d)\n",
    "y"
   ]
  },
  {
   "cell_type": "code",
   "execution_count": 24,
   "metadata": {},
   "outputs": [
    {
     "name": "stdout",
     "output_type": "stream",
     "text": [
      "From second element to end:\n",
      "l    2\n",
      "m    3\n",
      "n    7\n",
      "dtype: int64\n",
      "\n",
      "Except for the last element:\n",
      "k    1\n",
      "l    2\n",
      "m    3\n",
      "dtype: int64\n",
      "\n",
      "Elements at indices:\n",
      "m    3\n",
      "n    7\n",
      "dtype: int64\n",
      "\n"
     ]
    }
   ],
   "source": [
    "# Series acts like ndarray in numpy so you can slice and do operations\n",
    "print(\"From second element to end:\\n{}\\n\".format(y[1:]))\n",
    "print(\"Except for the last element:\\n{}\\n\".format(y[:-1]))\n",
    "print(\"Elements at indices:\\n{}\\n\".format(y[[2,3]]))"
   ]
  },
  {
   "cell_type": "code",
   "execution_count": 26,
   "metadata": {},
   "outputs": [
    {
     "data": {
      "text/plain": [
       "k    1.867775\n",
       "l    2.096473\n",
       "m    3.288008\n",
       "n    5.371875\n",
       "o         NaN\n",
       "dtype: float64"
      ]
     },
     "execution_count": 26,
     "metadata": {},
     "output_type": "execute_result"
    }
   ],
   "source": [
    "# You can even do operations, if an index does not exist in one operand, it will be NaN, which indicates not a number\n",
    "# NaN basically means missing element in pandas\n",
    "x + y"
   ]
  },
  {
   "cell_type": "markdown",
   "metadata": {},
   "source": [
    "### DataFrames\n",
    "\n",
    "DataFrames are the foundational block of Pandas. It is most important piece of Pandas that you need to master.\n",
    "One can see a dataframe as a table (e.g. pivot table in Excel or a database table), organized as rows and columns.\n",
    "Below let us see how DataFrames can be created and used"
   ]
  },
  {
   "cell_type": "code",
   "execution_count": 3,
   "metadata": {},
   "outputs": [
    {
     "name": "stdout",
     "output_type": "stream",
     "text": [
      "Empty DF:\n",
      "Empty DataFrame\n",
      "Columns: [a, b, c]\n",
      "Index: []\n",
      "\n",
      "DF from created from Series:\n",
      "          N\n",
      "a  0.140113\n",
      "b  0.379190\n",
      "c  0.508186\n",
      "d  0.641902\n",
      "e  0.847614\n",
      "\n",
      "DF from created from a Dictionary:\n",
      "          a         b         c\n",
      "0  0.604368  0.940134  0.226047\n",
      "1  0.926921  0.721891  0.749715\n",
      "2  0.719402  0.381389  0.261365\n",
      "3  0.175019  0.369784  0.323642\n",
      "4  0.668848  0.634273  0.982425\n",
      "\n"
     ]
    }
   ],
   "source": [
    "# Create an empty DataFrame with columns specified\n",
    "df = pd.DataFrame(columns=['a', 'b', 'c'])\n",
    "print(\"Empty DF:\\n{}\\n\".format(df))\n",
    "\n",
    "# Create from Series\n",
    "s = pd.Series(np.random.rand(5), index=['a', 'b', 'c', 'd', 'e'])\n",
    "df = pd.DataFrame(s, columns=['N'])\n",
    "print(\"DF from created from Series:\\n{}\\n\".format(df))\n",
    "\n",
    "# Create from Dictionary (keys will be column names, values will be rows)\n",
    "d = {'a': np.random.rand(5), 'b': np.random.rand(5), 'c': np.random.rand(5)}\n",
    "df = pd.DataFrame(d)\n",
    "print(\"DF from created from a Dictionary:\\n{}\\n\".format(df))"
   ]
  },
  {
   "cell_type": "code",
   "execution_count": 4,
   "metadata": {},
   "outputs": [
    {
     "name": "stdout",
     "output_type": "stream",
     "text": [
      "Original:\n",
      "          a         b         c\n",
      "0  0.881947  0.138732  0.775113\n",
      "1  0.040201  0.845211  0.123721\n",
      "2  0.417347  0.669749  0.238554\n",
      "3  0.858018  0.633113  0.258512\n",
      "4  0.635574  0.339315  0.904747\n",
      "\n",
      "Column A has type: <class 'pandas.core.series.Series'> and content:\n",
      "0    0.881947\n",
      "1    0.040201\n",
      "2    0.417347\n",
      "3    0.858018\n",
      "4    0.635574\n",
      "Name: a, dtype: float64\n",
      "\n",
      "New df with column d:\n",
      "          a         b         c         d\n",
      "0  0.881947  0.138732  0.775113  0.720730\n",
      "1  0.040201  0.845211  0.123721  0.434242\n",
      "2  0.417347  0.669749  0.238554  0.487331\n",
      "3  0.858018  0.633113  0.258512  0.033973\n",
      "4  0.635574  0.339315  0.904747  0.877786\n",
      "\n",
      "New df with column e:\n",
      "          a         e         b         c         d\n",
      "0  0.881947  0.044834  0.138732  0.775113  0.720730\n",
      "1  0.040201  0.789613  0.845211  0.123721  0.434242\n",
      "2  0.417347  0.293025  0.669749  0.238554  0.487331\n",
      "3  0.858018  0.100410  0.633113  0.258512  0.033973\n",
      "4  0.635574  0.093754  0.339315  0.904747  0.877786\n",
      "\n",
      "Original:\n",
      "          a         b         c\n",
      "0  0.881947  0.138732  0.775113\n",
      "1  0.040201  0.845211  0.123721\n",
      "2  0.417347  0.669749  0.238554\n",
      "3  0.858018  0.633113  0.258512\n",
      "4  0.635574  0.339315  0.904747\n",
      "\n"
     ]
    }
   ],
   "source": [
    "# Create a sample dataframe\n",
    "d = {'a': np.random.rand(5), 'b': np.random.rand(5), 'c': np.random.rand(5)}\n",
    "df = pd.DataFrame(d)\n",
    "print(\"Original:\\n{}\\n\".format(df))\n",
    "\n",
    "# Column Selection\n",
    "col_a = df['a']\n",
    "print(\"Column A has type: {} and content:\\n{}\\n\".format(type(col_a), col_a))\n",
    "\n",
    "# Column Addition (just treat df like a dictionary)\n",
    "col_d = np.random.rand(5)\n",
    "df['d'] = col_d\n",
    "print(\"New df with column d:\\n{}\\n\".format(df))\n",
    "\n",
    "# You can insert column to specific location with insert function\n",
    "col_e = np.random.rand(5)\n",
    "df.insert(1, 'e', col_e)\n",
    "print(\"New df with column e:\\n{}\\n\".format(df))\n",
    "\n",
    "# Delete a column\n",
    "del df['d']\n",
    "del df['e']\n",
    "print(\"Original:\\n{}\\n\".format(df))"
   ]
  },
  {
   "cell_type": "code",
   "execution_count": 50,
   "metadata": {},
   "outputs": [
    {
     "name": "stdout",
     "output_type": "stream",
     "text": [
      "Original:\n",
      "          a         b         c\n",
      "e  0.556364  0.918399  0.410224\n",
      "f  0.547123  0.728116  0.890848\n",
      "g  0.097189  0.008000  0.328595\n",
      "h  0.880321  0.688627  0.055330\n",
      "j  0.251598  0.844132  0.961841\n",
      "\n",
      "Row of type:<class 'pandas.core.series.Series'> content:\n",
      "a    0.547123\n",
      "b    0.728116\n",
      "c    0.890848\n",
      "Name: f, dtype: float64\n",
      "\n",
      "Row of type:<class 'pandas.core.series.Series'> content:\n",
      "a    0.880321\n",
      "b    0.688627\n",
      "c    0.055330\n",
      "Name: h, dtype: float64\n",
      "\n",
      "Sliced with indices:\n",
      "          a         b         c\n",
      "g  0.097189  0.008000  0.328595\n",
      "h  0.880321  0.688627  0.055330\n",
      "\n",
      "Sliced with boolean vector:\n",
      "          a         b         c\n",
      "e  0.556364  0.918399  0.410224\n",
      "h  0.880321  0.688627  0.055330\n",
      "\n"
     ]
    }
   ],
   "source": [
    "# Create a sample dataframe\n",
    "d = {'a': np.random.rand(5), 'b': np.random.rand(5), 'c': np.random.rand(5)}\n",
    "df = pd.DataFrame(d)\n",
    "df.index = ['e', 'f', 'g', 'h', 'j']\n",
    "print(\"Original:\\n{}\\n\".format(df))\n",
    "\n",
    "# Select row by index label\n",
    "row = df.loc['f']\n",
    "print(\"Row of type:{} content:\\n{}\\n\".format(type(row), row))\n",
    "\n",
    "\n",
    "# Select row by integer location\n",
    "row = df.iloc[3]\n",
    "print(\"Row of type:{} content:\\n{}\\n\".format(type(row), row))\n",
    "\n",
    "# Select multiple rows (result is a dataframe)\n",
    "df_selected = df[2:4]\n",
    "print(\"Sliced with indices:\\n{}\\n\".format(df_selected))\n",
    "\n",
    "# Select multiple rows with a boolean vector\n",
    "vec = [True, False, False, True, False]\n",
    "df_selected = df[vec]\n",
    "print(\"Sliced with boolean vector:\\n{}\\n\".format(df_selected))"
   ]
  },
  {
   "cell_type": "code",
   "execution_count": 22,
   "metadata": {},
   "outputs": [
    {
     "name": "stdout",
     "output_type": "stream",
     "text": [
      "Original df:\n",
      "          a         b\n",
      "e  0.098913  0.736981\n",
      "f  0.823385  0.891014\n",
      "g  0.990247  0.882337\n",
      "\n",
      "Original df:\n",
      "          a         b\n",
      "e  3.098913  3.736981\n",
      "f  3.823385  3.891014\n",
      "g  3.990247  3.882337\n",
      "\n",
      "Original df:\n",
      "          a         b\n",
      "e  0.197826  1.473961\n",
      "f  1.646769  1.782028\n",
      "g  1.980493  1.764675\n",
      "\n"
     ]
    }
   ],
   "source": [
    "# You can do any operations with df and it will be auto broadcasted to all elements\n",
    "d = {'a': np.random.rand(3), 'b': np.random.rand(3)}\n",
    "df = pd.DataFrame(d, index=['e', 'f', 'g'])\n",
    "print(\"Original df:\\n{}\\n\".format(df))\n",
    "print(\"Original df:\\n{}\\n\".format(df + 3))\n",
    "print(\"Original df:\\n{}\\n\".format(df * 2))"
   ]
  },
  {
   "cell_type": "code",
   "execution_count": 24,
   "metadata": {},
   "outputs": [
    {
     "name": "stdout",
     "output_type": "stream",
     "text": [
      "<class 'pandas.core.frame.DataFrame'>\n",
      "Index: 3 entries, e to g\n",
      "Data columns (total 2 columns):\n",
      "a    3 non-null float64\n",
      "b    3 non-null float64\n",
      "dtypes: float64(2)\n",
      "memory usage: 72.0+ bytes\n"
     ]
    }
   ],
   "source": [
    "# You can print details of a dataframe with info() method\n",
    "df.info()"
   ]
  },
  {
   "cell_type": "code",
   "execution_count": null,
   "metadata": {},
   "outputs": [],
   "source": []
  }
 ],
 "metadata": {
  "kernelspec": {
   "display_name": "Python 3",
   "language": "python",
   "name": "python3"
  },
  "language_info": {
   "codemirror_mode": {
    "name": "ipython",
    "version": 3
   },
   "file_extension": ".py",
   "mimetype": "text/x-python",
   "name": "python",
   "nbconvert_exporter": "python",
   "pygments_lexer": "ipython3",
   "version": "3.5.2"
  }
 },
 "nbformat": 4,
 "nbformat_minor": 2
}
