{
 "cells": [
  {
   "cell_type": "markdown",
   "metadata": {},
   "source": [
    "# Python Pandas Tutorial\n",
    "\n",
    "Pandas is great and a defacto library for data mungling in Python. In this tutorial, we will take a look at the basic operations that a data scientist needs to use Pandas. \n",
    "\n",
    "See official page for more information: https://pandas.pydata.org/"
   ]
  },
  {
   "cell_type": "markdown",
   "metadata": {},
   "source": [
    "## Import Pandas and Numpy"
   ]
  },
  {
   "cell_type": "code",
   "execution_count": 3,
   "metadata": {},
   "outputs": [],
   "source": [
    "import pandas as pd\n",
    "import numpy as np"
   ]
  },
  {
   "cell_type": "markdown",
   "metadata": {},
   "source": [
    "## Data Types\n",
    "\n",
    "Before we delve into the details, let's first understand the Pandas Data Types, namely Series and DataFrames."
   ]
  },
  {
   "cell_type": "markdown",
   "metadata": {},
   "source": [
    "### Series\n",
    "\n",
    "Series are the foundational block of Pandas. You can think of it as labeled (indexed) arrays"
   ]
  },
  {
   "cell_type": "code",
   "execution_count": 6,
   "metadata": {},
   "outputs": [
    {
     "data": {
      "text/plain": [
       "0   -0.895791\n",
       "1    0.003069\n",
       "2    1.011121\n",
       "3   -0.871680\n",
       "4    0.556485\n",
       "dtype: float64"
      ]
     },
     "execution_count": 6,
     "metadata": {},
     "output_type": "execute_result"
    }
   ],
   "source": [
    "# Create Series\n",
    "x = pd.Series(np.random.randn(5))\n",
    "x"
   ]
  },
  {
   "cell_type": "code",
   "execution_count": 8,
   "metadata": {},
   "outputs": [
    {
     "data": {
      "text/plain": [
       "k    0.867775\n",
       "l    0.096473\n",
       "m    0.288008\n",
       "n   -1.628125\n",
       "o    0.971568\n",
       "dtype: float64"
      ]
     },
     "execution_count": 8,
     "metadata": {},
     "output_type": "execute_result"
    }
   ],
   "source": [
    "# Create Series with index (if no index is provided, then numbered from 1 to n)\n",
    "x = pd.Series(np.random.randn(5), index=['k', 'l', 'm', 'n', 'o'])\n",
    "x"
   ]
  },
  {
   "cell_type": "code",
   "execution_count": 12,
   "metadata": {},
   "outputs": [
    {
     "data": {
      "text/plain": [
       "k    1\n",
       "l    2\n",
       "m    3\n",
       "n    7\n",
       "dtype: int64"
      ]
     },
     "execution_count": 12,
     "metadata": {},
     "output_type": "execute_result"
    }
   ],
   "source": [
    "# You can provide a dictionary to create series as well (with key as indices)\n",
    "d = {\n",
    "    'k': 1,\n",
    "    'l': 2,\n",
    "    'm': 3,\n",
    "    'n': 7\n",
    "}\n",
    "y = pd.Series(d)\n",
    "y"
   ]
  },
  {
   "cell_type": "code",
   "execution_count": 24,
   "metadata": {},
   "outputs": [
    {
     "name": "stdout",
     "output_type": "stream",
     "text": [
      "From second element to end:\n",
      "l    2\n",
      "m    3\n",
      "n    7\n",
      "dtype: int64\n",
      "\n",
      "Except for the last element:\n",
      "k    1\n",
      "l    2\n",
      "m    3\n",
      "dtype: int64\n",
      "\n",
      "Elements at indices:\n",
      "m    3\n",
      "n    7\n",
      "dtype: int64\n",
      "\n"
     ]
    }
   ],
   "source": [
    "# Series acts like ndarray in numpy so you can slice and do operations\n",
    "print(\"From second element to end:\\n{}\\n\".format(y[1:]))\n",
    "print(\"Except for the last element:\\n{}\\n\".format(y[:-1]))\n",
    "print(\"Elements at indices:\\n{}\\n\".format(y[[2,3]]))"
   ]
  },
  {
   "cell_type": "code",
   "execution_count": 26,
   "metadata": {},
   "outputs": [
    {
     "data": {
      "text/plain": [
       "k    1.867775\n",
       "l    2.096473\n",
       "m    3.288008\n",
       "n    5.371875\n",
       "o         NaN\n",
       "dtype: float64"
      ]
     },
     "execution_count": 26,
     "metadata": {},
     "output_type": "execute_result"
    }
   ],
   "source": [
    "# You can even do operations, if an index does not exist in one operand, it will be NaN, which indicates not a number\n",
    "# NaN basically means missing element in pandas\n",
    "x + y"
   ]
  },
  {
   "cell_type": "markdown",
   "metadata": {},
   "source": [
    "### DataFrames\n",
    "\n",
    "DataFrames are the foundational block of Pandas. It is most important piece of Pandas that you need to master."
   ]
  },
  {
   "cell_type": "code",
   "execution_count": null,
   "metadata": {},
   "outputs": [],
   "source": []
  }
 ],
 "metadata": {
  "kernelspec": {
   "display_name": "Python 3",
   "language": "python",
   "name": "python3"
  },
  "language_info": {
   "codemirror_mode": {
    "name": "ipython",
    "version": 3
   },
   "file_extension": ".py",
   "mimetype": "text/x-python",
   "name": "python",
   "nbconvert_exporter": "python",
   "pygments_lexer": "ipython3",
   "version": "3.5.2"
  }
 },
 "nbformat": 4,
 "nbformat_minor": 2
}
